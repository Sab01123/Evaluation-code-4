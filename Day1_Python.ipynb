{
  "nbformat": 4,
  "nbformat_minor": 0,
  "metadata": {
    "colab": {
      "provenance": [],
      "authorship_tag": "ABX9TyNDIQ9+YZKQ+qOxeoZqK4W/",
      "include_colab_link": true
    },
    "kernelspec": {
      "name": "python3",
      "display_name": "Python 3"
    },
    "language_info": {
      "name": "python"
    }
  },
  "cells": [
    {
      "cell_type": "markdown",
      "metadata": {
        "id": "view-in-github",
        "colab_type": "text"
      },
      "source": [
        "<a href=\"https://colab.research.google.com/github/Sab01123/Evaluation-code-4/blob/master/Day1_Python.ipynb\" target=\"_parent\"><img src=\"https://colab.research.google.com/assets/colab-badge.svg\" alt=\"Open In Colab\"/></a>"
      ]
    },
    {
      "cell_type": "code",
      "execution_count": null,
      "metadata": {
        "colab": {
          "base_uri": "https://localhost:8080/"
        },
        "id": "20AQ9RhdXjwY",
        "outputId": "d2ec0d78-07db-4723-8d96-ced3ee22c217"
      },
      "outputs": [
        {
          "output_type": "stream",
          "name": "stdout",
          "text": [
            "Hello World\n"
          ]
        }
      ],
      "source": [
        "print(\"Hello World\")"
      ]
    },
    {
      "cell_type": "code",
      "source": [
        "# vairables\n",
        "roll_number = 100\n",
        "name = \"sabira\"\n",
        "marks = 87.6\n",
        "\n",
        "print(\"Name is: \" + name)\n",
        "# print(\"Roll is: \" + roll_number)  can only concatenate str (not \"int\") to str\n",
        "print(\"Roll is: \"+ str(roll_number))\n",
        "print(\"Marks are: \"+ str(marks))\n",
        "\n",
        "# Name is: sabira\n",
        "# Roll is: 100\n",
        "# Marks are: 87.6\n",
        "\n",
        "#complex\n",
        "comp = 30 + 5j\n",
        "print(comp.real)\n",
        "print(comp.imag)\n",
        "\n",
        "# 30.0\n",
        "# 5.0\n",
        "\n",
        "## Performing Arthimetic Operators\n",
        "\n",
        "a = 2 + 3j\n",
        "b = 1 - 2j\n",
        "\n",
        "z1 = a + b\n",
        "z2 = a - b\n",
        "z3 = a * b\n",
        "z4 = a / b\n",
        "\n",
        "print(\"addition is: \" + str(z1))\n",
        "\n",
        "print(\"subtraction is: \" + str(z2))             # (2 + 3j) - (1 - 2j) -->  2 + 3j -1 + 2j -->  1 + 5j\n",
        "\n",
        "print(\"multiplication is: \" + str(z3))          # (2 + 3j) * (1 - 2j)\n",
        "                                                # 2*1 - 2*2j +3j*1 - 3j*2j\n",
        "                                                # 2 -4j + 3j - 6*j**2\n",
        "                                                # 2 -1j -6*(-1)    j**2 is equal to -1\n",
        "                                                # 2 -1j + 6\n",
        "                                                # 8 -1j\n",
        "\n",
        "print(\"division is: \" + str(z4))\n",
        "\n",
        "\n",
        "# addition is: (3+1j)\n",
        "# subtraction is: (1+5j)\n",
        "# multiplication is: (8-1j)\n",
        "# division is: (-0.8+1.4j)\n",
        "\n",
        "#Conjugate\n",
        "\n",
        "conj_a = a.conjugate()\n",
        "print(\"conjugate of \" + str(a) +\" is: \"+str(conj_a))\n",
        "# conjugate of (2+3j) is: (2-3j)\n",
        "\n",
        "conj_b = b.conjugate()\n",
        "print(\"conjugate of \" + str(b) +\" is: \"+str(conj_b))\n",
        "# conjugate of (1-2j) is: (1+2j)\n",
        "\n",
        "# Convert str into complex dataType\n",
        "\n",
        "str_num = \"1+3j\"\n",
        "comp_num = complex(str_num)\n",
        "print(comp_num)  # (1+3j)"
      ],
      "metadata": {
        "colab": {
          "base_uri": "https://localhost:8080/"
        },
        "id": "3OXfboDuZ8s_",
        "outputId": "eab9933d-2364-4274-dabe-6a17e09566be"
      },
      "execution_count": null,
      "outputs": [
        {
          "output_type": "stream",
          "name": "stdout",
          "text": [
            "Name is: sabira\n",
            "Roll is: 100\n",
            "Marks are: 87.6\n",
            "30.0\n",
            "5.0\n",
            "addition is: (3+1j)\n",
            "subtraction is: (1+5j)\n",
            "multiplication is: (8-1j)\n",
            "division is: (-0.8+1.4j)\n",
            "conjugate of (2+3j) is: (2-3j)\n",
            "conjugate of (1-2j) is: (1+2j)\n",
            "(1+3j)\n"
          ]
        }
      ]
    },
    {
      "cell_type": "code",
      "source": [
        "# in_built dataTypes\n",
        "\n",
        "# 1) Numeric types: int, float, complex\n",
        "int_num = 123\n",
        "float_num = 123.22\n",
        "comp_num = 1 + 3j\n",
        "print(int_num, float_num, comp_num) # 123 123.22 (1+3j)\n",
        "\n",
        "# long- holds long integers(exists in Python 2.x, deprecated in Python 3.x).\n",
        "\n",
        "# 2) String/Text data type\n",
        "str1 = \"hello i'm string\"\n",
        "str2 = 'welcome to python'\n",
        "\n",
        "print(str1 +\", \"+ str2) # hello i'm string, welcome to python\n",
        "\n",
        "# 3) List Data Type\n",
        "\n",
        "# list\n",
        "arr = [1, 2, 3, 4]\n",
        "print(arr)\n",
        "\n",
        "str_arr = [\"sabira\", \"farooq\", \"haleef\"]\n",
        "str_arr[2] = \"ayzal\"\n",
        "print(str_arr)  # ['sabira', 'farooq', 'ayzal']\n",
        "\n",
        "# Tuple\n",
        "\n",
        "tuple_list = (\"sabira\", \"farooq\", \"haleef\")\n",
        "# tuple_list[2] = \"ayzal\" TypeError: 'tuple' object does not support item assignment\n",
        "# tuples are immutable\n",
        "print(tuple_list)\n",
        "\n",
        "# Dictionary\n",
        "\n",
        "info = {\n",
        "    \"id\": 31,\n",
        "    \"name\" :\"sabira\",\n",
        "    \"address\":\"hyd\",\n",
        "    \"phone\":1234\n",
        "\n",
        "}\n",
        "\n",
        "print(info)   # {'id': 31, 'name': 'sabira', 'address': 'hyd', 'phone': 1234}\n",
        "\n",
        "# set\n",
        "\n",
        "my_set = {\"india\", \"china\", \"afga\", \"us\"}\n",
        "print(my_set)   #  {'india', 'us', 'china', 'afga'}\n",
        "# A set is a collection which is unordered, unchangeable*, and unindexed.\n",
        "# Set items are unchangeable, but you can remove items and add new items\n",
        "\n",
        "###################\n",
        "# boolean Type: True and False\n",
        "#None Type: None\n",
        "\n",
        "# Binary Type: bytes, bytearray, memoryview\n",
        "\n",
        "#bytes\n",
        "# The bytes is an immutable sequence type to represent sequences of bytes (8-bit values).\n",
        "\n",
        "my_byte = b\"hello\"\n",
        "my_byte2 = b'hi'\n",
        "print(my_byte)\n",
        "print(my_byte2)\n",
        "\n",
        "#bytearray\n",
        "\n",
        "my_byte_arr = bytearray([10, 20, 88, 34, 50])\n",
        "print(my_byte_arr) # bytearray(b'\\n\\x14X\"2')\n",
        "\n",
        "# Array of bytes from an iterable list\n",
        "my_list = [1,2,3]\n",
        "my_byte_list = bytearray(my_list)\n",
        "print(my_byte_list) # bytearray(b'\\x01\\x02\\x03')\n",
        "\n",
        "# MemoryView\n",
        "\n",
        "data = bytearray([1 ,2, 3, 4, 5, 6])\n",
        "mem = memoryview(data)\n",
        "print(mem)\n",
        "\n",
        "\n"
      ],
      "metadata": {
        "id": "bXCYs5c4IF6p",
        "colab": {
          "base_uri": "https://localhost:8080/"
        },
        "outputId": "e606b899-c70c-4f0b-b82d-13bb1a22a668"
      },
      "execution_count": 46,
      "outputs": [
        {
          "output_type": "stream",
          "name": "stdout",
          "text": [
            "123 123.22 (1+3j)\n",
            "hello i'm string, welcome to python\n",
            "[1, 2, 3, 4]\n",
            "['sabira', 'farooq', 'ayzal']\n",
            "('sabira', 'farooq', 'haleef')\n",
            "{'id': 31, 'name': 'sabira', 'address': 'hyd', 'phone': 1234}\n",
            "{'india', 'us', 'china', 'afga'}\n",
            "b'hello'\n",
            "b'hi'\n",
            "bytearray(b'\\n\\x14X\"2')\n",
            "bytearray(b'\\x01\\x02\\x03')\n",
            "<memory at 0x7fd7fc190e80>\n"
          ]
        }
      ]
    },
    {
      "cell_type": "code",
      "source": [
        "# Type conversion\n",
        "# implicit\n",
        "num1 = 20\n",
        "num2 = 23.4\n",
        "sum = num1+num2\n",
        "print(sum)\n",
        "\n",
        "# explicit\n",
        " # str to float\n",
        "\n",
        "my_str = \"112.32\"\n",
        "my_float = float(my_str)\n",
        "print(my_float) # 112.32\n",
        "\n",
        "#"
      ],
      "metadata": {
        "colab": {
          "base_uri": "https://localhost:8080/"
        },
        "id": "brhIiO6GaT1J",
        "outputId": "d91531d6-ad87-4b73-e62f-9dc8c450876b"
      },
      "execution_count": 48,
      "outputs": [
        {
          "output_type": "stream",
          "name": "stdout",
          "text": [
            "43.4\n",
            "112.32\n"
          ]
        }
      ]
    },
    {
      "cell_type": "code",
      "source": [
        "#Operators\n",
        "\n",
        "# arithmetic operators: +, -, *, /, //, %, **\n",
        "a = 10\n",
        "b = 3\n",
        "\n",
        "print(a+b)  # 13\n",
        "print(a-b)  # 7\n",
        "print(a*b)  # 30\n",
        "print(a/b)  # 3.3333333333333335\n",
        "print(a//b) # 3\n",
        "print(a%b)  # 1\n",
        "print(a**b) # 1000\n",
        "\n",
        "# comparision operators: ==, !=, >, <, >=, <=\n",
        "\n",
        "print(a==b)  # False\n",
        "print(a!=b)  # True\n",
        "print(a>b)   # True\n",
        "print(a<b)   # False\n",
        "print(a>=b)  # True\n",
        "print(a<=b)  # False\n",
        "\n",
        "# Assignment Operators\n",
        "\n",
        "x = 10\n",
        "y = 20\n",
        "\n",
        "# x = x+y\n",
        "x += y\n",
        "\n",
        "print(x)    #30\n",
        "\n",
        "y -= 10\n",
        "print(y)    #10\n",
        "\n",
        "# Logical Operators\n",
        "\n",
        "a = True\n",
        "b = False\n",
        "\n",
        "print(a or b)  # True\n",
        "print(a and b) # False\n",
        "\n",
        "# Case OR\n",
        "# a    b       output\n",
        "# T    T         T\n",
        "# T    F         T\n",
        "# F    T         T\n",
        "# F    F         F\n",
        "\n",
        "# Case AND\n",
        "# a    b       output\n",
        "# T    T         T\n",
        "# T    F         F\n",
        "# F    T         F\n",
        "# F    F         F\n"
      ],
      "metadata": {
        "colab": {
          "base_uri": "https://localhost:8080/"
        },
        "id": "VnMkH6EJf4vt",
        "outputId": "be2d45e8-02d2-472a-dff5-62f8c3258f04"
      },
      "execution_count": 5,
      "outputs": [
        {
          "output_type": "stream",
          "name": "stdout",
          "text": [
            "13\n",
            "7\n",
            "30\n",
            "3.3333333333333335\n",
            "3\n",
            "1\n",
            "1000\n",
            "False\n",
            "True\n",
            "True\n",
            "False\n",
            "True\n",
            "False\n",
            "30\n",
            "10\n",
            "True\n",
            "False\n"
          ]
        }
      ]
    }
  ]
}